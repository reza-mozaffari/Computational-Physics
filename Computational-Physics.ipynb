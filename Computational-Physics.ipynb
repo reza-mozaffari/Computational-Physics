{
 "cells": [
  {
   "cell_type": "markdown",
   "id": "20d803ea",
   "metadata": {},
   "source": [
    "# Computational Physcis \n",
    "**M. Reza Mozaffari**  \n",
    "*Physics Group, University of Qom*"
   ]
  },
  {
   "cell_type": "markdown",
   "id": "09047d9e",
   "metadata": {},
   "source": [
    "## Finite Differences\n",
    "\n",
    "<img src=\"FD.jpg\" width=\"600\" height=\"550\">\n",
    "\n",
    "Divide the intervals $[a, b]$ into $n$ equal subintervals with each of width, \n",
    "\n",
    "$$h = \\frac{b-a}{n}$$\n",
    "\n",
    "$$x_i = a + ih,\\quad i=0, 1, 2,\\cdots,n$$\n",
    "\n",
    "$$f_i = f(x_i)$$\n"
   ]
  },
  {
   "cell_type": "markdown",
   "id": "24271839",
   "metadata": {},
   "source": [
    "## Numerical Differentiation \n",
    "### First order derivative \n",
    "\n",
    "<img src=\"Forward-1st-order.jpg\" width=\"250\" height=\"200\">\n",
    "\n",
    "$$\\text{Taylor expansion: }f_{i+1} =f_i + \\frac{f^{(1)}_i}{1!} h+ \\frac{f^{(2)}_i}{2!} h^2+\\frac{f^{(3)}_i}{3!} h^3 +\\cdots$$\n",
    "\n",
    "$$\\text{Truncate: }f_{i+1} \\approx f_i + f^{(1)}_ih+ \\text{O}(h^2)$$\n",
    "\n",
    "$$\\text{Forward Difference Derivative (two-point): }\\boxed{f^{(1)}_i\\approx\\frac{f_{i+1} - f_{i}}{h}+\\text{O}(h)}$$\n",
    "\n",
    "<img src=\"Backward-1st-order.jpg\" width=\"250\" height=\"200\">\n",
    "\n",
    "$$\\text{Taylor expansion: }f_{i-1} =f_i - \\frac{f^{(1)}_i}{1!} h+ \\frac{f^{(2)}_i}{2!} h^2-\\frac{f^{(3)}_i}{3!} h^3 +\\cdots$$\n",
    "\n",
    "$$\\text{Truncate: }f_{i-1} \\approx f_i - f^{(1)}_ih+ \\text{O}(h^2)$$\n",
    "\n",
    "$$\\text{Backward Difference Derivative (two-point): }\\boxed{f^{(1)}_i\\approx\\frac{f_{i} - f_{i-1}}{h}+\\text{O}(h)}$$\n",
    "\n",
    "<img src=\"Central-1st-order.jpg\" width=\"250\" height=\"200\">\n",
    "\n",
    "$$\\text{Taylor expansion: }\\begin{cases}\n",
    "f_{i+1} = f_i + \\frac{f^{(1)}_i}{1!} h + \\frac{f^{(2)}_i}{2!} h^2 + \\frac{f^{(3)}_i}{3!} h^3 +\\cdots\\\\\n",
    "f_{i-1} = f_i - \\frac{f^{(1)}_i}{1!} h + \\frac{f^{(2)}_i}{2!} h^2 - \\frac{f^{(3)}_i}{3!} h^3 +\\cdots\n",
    "\\end{cases}$$\n",
    "\n",
    "$$\\text{Truncate: }f_{i+1} - f_{i-1} \\approx 2f^{(1)}_ih+ 2\\frac{f^{(3)}_i}{3!} h^3 +\\cdots$$\n",
    "\n",
    "$$f_{i+1} - f_{i-1} \\approx 2f^{(1)}_ih+ \\text{O}(h^3)$$\n",
    "\n",
    "$$\\text{Central Difference Derivative (three-point): }\\boxed{f^{(1)}_i\\approx\\frac{f_{i+1} - f_{i-1}}{2h}+\\text{O}(h^2)}$$"
   ]
  },
  {
   "cell_type": "code",
   "execution_count": 4,
   "id": "826b6f64",
   "metadata": {},
   "outputs": [],
   "source": [
    "class Diff_1st ():\n",
    "    def __init__ (self, f, h=0.01):\n",
    "        self.f = f\n",
    "        self.h = h\n",
    "\n",
    "    # 2-point O(h)\n",
    "    def Forward (self, x):\n",
    "        return (self.f(x + self.h) - self.f(x))/self.h\n",
    "\n",
    "    # 2-point O(h)\n",
    "    def Backward (self, x):\n",
    "        return (self.f(x) - self.f(x - self.h))/self.h\n",
    "\n",
    "    # 3-point O(h^2)\n",
    "    def Central (self, x):\n",
    "        return 0.5*(self.f(x + self.h) - self.f(x - self.h))/self.h"
   ]
  },
  {
   "cell_type": "code",
   "execution_count": 6,
   "id": "c174bde1",
   "metadata": {},
   "outputs": [
    {
     "name": "stdout",
     "output_type": "stream",
     "text": [
      "Numerical First Order Derivative:\n",
      "Forward: 0.4989953678329599\n",
      "Backward: 0.4802359471118435\n",
      "Central: 0.4896156574724017\n",
      "Exact:  0.4896320646821841 \n",
      "\n"
     ]
    }
   ],
   "source": [
    "from math import *\n",
    "\n",
    "def g(x):\n",
    "    return x*sin(x)\n",
    "\n",
    "def dgdx(x):\n",
    "    return sin(x) + x*cos(x)\n",
    "\n",
    "print(\"Numerical First Order Derivative:\")\n",
    "dg = Diff_1st (g, h=0.01)\n",
    "print(\"Forward:\", dg.Forward(x=0.25))\n",
    "print(\"Backward:\", dg.Backward(x=0.25))\n",
    "print(\"Central:\", dg.Central(x=0.25))\n",
    "print(\"Exact: \", dgdx(0.25),\"\\n\")"
   ]
  },
  {
   "cell_type": "markdown",
   "id": "530f301b",
   "metadata": {},
   "source": [
    "### Second order derivative \n",
    "\n",
    "<img src=\"Forward-2nd-order.jpg\" width=\"250\" height=\"200\">\n",
    "\n",
    "$$\\text{Taylor expansion: }\\begin{cases}\n",
    "f_{i+2} =f_i + \\frac{f^{(1)}_i}{1!}(2h)+ \\frac{f^{(2)}_i}{2!} (2h)^2 +   \\frac{f^{(3)}_i}{3!} (2h)^3 +\\cdots\\\\\n",
    "f_{i+1} =f_i + \\frac{f^{(1)}_i}{1!} h+ \\frac{f^{(2)}_i}{2!} h^2 +   \\frac{f^{(3)}_i}{3!} h^3 +\\cdots\n",
    "\\end{cases}$$\n",
    "\n",
    "$$f_{i+2}-2f_{i+1} = -f_i +f^{(2)}_ih^2+f^{(3)}_ih^3+\\cdots$$\n",
    "\n",
    "$$\\text{Truncate: }f_{i+2}-2f_{i+1} \\approx -f_i +f^{(2)}_ih^2+ \\text{O}(h^3)$$\n",
    "\n",
    "$$\\text{Second Forward Difference Derivative (three-point): }\\boxed{f^{(2)}_i\\approx\\frac{f_{i+2}-2f_{i+1} + f_i}{h^2}+\\text{O}(h)}$$\n",
    "\n",
    "<img src=\"Backward-2nd-order.jpg\" width=\"250\" height=\"200\">\n",
    "\n",
    "$$\\text{Taylor expansion: }\\begin{cases}\n",
    "f_{i-1} =f_i - \\frac{f^{(1)}_i}{1!} h+ \\frac{f^{(2)}_i}{2!} h^2 -   \\frac{f^{(3)}_i}{3!} h^3 +\\cdots\\\\\n",
    "f_{i-2} =f_i - \\frac{f^{(1)}_i}{1!}(2h)+ \\frac{f^{(2)}_i}{2!} (2h)^2 -   \\frac{f^{(3)}_i}{3!} (2h)^3 +\\cdots\n",
    "\\end{cases}$$\n",
    "\n",
    "$$-f_{i-2}+2f_{i-1} = f_i -f^{(2)}_ih^2+f^{(3)}_ih^3+\\cdots$$\n",
    "\n",
    "$$\\text{Truncate: }-f_{i-2}+2f_{i-1} = f_i -f^{(2)}_ih^2+\\text{O}(h^3)$$\n",
    "\n",
    "$$\\text{Second Backward Difference Derivative (three-point): }\\boxed{f^{(2)}_i\\approx\\frac{f_{i-2}-2f_{i-1} +f_i}{h^2} +\\text{O}(h)}$$\n",
    "\n",
    "<img src=\"Central-2nd-order.jpg\" width=\"250\" height=\"200\">\n",
    "\n",
    "$$\\begin{cases}\n",
    "f_{i+1} =f_i + \\frac{f^{(1)}_i}{1!} h+ \\frac{f^{(2)}_i}{2!} h^2 +   \\frac{f^{(3)}_i}{3!} h^3 +\\cdots\\\\\n",
    "f_{i-1} =f_i - \\frac{f^{(1)}_i}{1!} h+ \\frac{f^{(2)}_i}{2!} h^2 -   \\frac{f^{(3)}_i}{3!} h^3 +\\cdots\n",
    "\\end{cases}$$\n",
    "\n",
    "$$f_{i+1}+f_{i-1} = 2f_i +f^{(2)}_ih^2+\\frac{1}{12}f^{(4)}_ih^4+\\cdots$$\n",
    "\n",
    "$$\\text{Truncate: }f_{i+1}+f_{i-1} \\approx 2f_i +f^{(2)}_ih^2+\\text{O}(h^4)$$\n",
    "\n",
    "$$\\text{Central Difference Derivative (three-point): }\\boxed{f^{(2)}_i\\approx\\frac{f_{i+1}- 2f_i +f_{i-1}}{h^2}+\\text{O}(h^2)}$$"
   ]
  },
  {
   "cell_type": "code",
   "execution_count": 7,
   "id": "dae927c0",
   "metadata": {},
   "outputs": [],
   "source": [
    "from math import *\n",
    "\n",
    "class Diff_2nd ():\n",
    "    def __init__ (self, f, h=0.01):\n",
    "        self.f = f\n",
    "        self.h = h\n",
    "\n",
    "    # 3-point O(h)\n",
    "    def Forward (self, x):\n",
    "        return (self.f(x + 2.0*self.h) - 2.0*self.f(x + self.h) + self.f(x))/self.h**2\n",
    "\n",
    "    # 3-point O(h)\n",
    "    def Backward (self, x):\n",
    "        return (self.f(x - 2.0*self.h) - 2.0*self.f(x - self.h) + self.f(x))/self.h**2\n",
    "\n",
    "    # 3-point O(h^2)\n",
    "    def Central (self, x):\n",
    "        return (self.f(x + self.h) - 2.0*self.f(x) + self.f(x - self.h))/self.h**2"
   ]
  },
  {
   "cell_type": "code",
   "execution_count": 8,
   "id": "8ec70639",
   "metadata": {},
   "outputs": [
    {
     "name": "stdout",
     "output_type": "stream",
     "text": [
      "Numerical Second Order Derivative:\n",
      "Forward: 1.8659073569448485\n",
      "Backward: 1.885595416994748\n",
      "Central: 1.8759420721116415\n",
      "Exact:  1.8759738536076587 \n",
      "\n"
     ]
    }
   ],
   "source": [
    "def g(x):\n",
    "    return x*sin(x)\n",
    "\n",
    "def d2gdx2(x):\n",
    "    return 2.0*cos(x) - x*sin(x)\n",
    "\n",
    "print(\"Numerical Second Order Derivative:\")\t\n",
    "d2g = Diff_2nd (g, h=0.01)\n",
    "print(\"Forward:\", d2g.Forward(x=0.25))\n",
    "print(\"Backward:\", d2g.Backward(x=0.25))\n",
    "print(\"Central:\", d2g.Central(x=0.25))\n",
    "print(\"Exact: \", d2gdx2(0.25),\"\\n\")"
   ]
  },
  {
   "cell_type": "markdown",
   "id": "346debaf",
   "metadata": {},
   "source": [
    "## Trapezoidal Rule\n",
    "\n",
    "<img src=\"trap.jpg\" width=\"250\" height=\"200\">\n",
    "\n",
    "$$\\boxed{\\int_{x}^{x+h}f(x)\\text{d}x = \\frac{f(x) + f(x+h)}{2}h}$$\n",
    "\n",
    "Divide the intervals $[a, b]$ into $n$ equal subintervals with each of width, $h = (b-a)/n$, where $x_i = a + ih, i=0, 1, 2,\\cdots,n$\n",
    "\n",
    "$$\\begin{split}\\int_{a}^{b}f(x)\\text{d}x &= \\int_{a}^{a+h}f(x)\\text{d}x + \\int_{a+h}^{a+2h}f(x)\\text{d}x+\\cdots\\\\\n",
    "&+\\int_{x-h}^{x}f(x)\\text{d}x+\\int_{x}^{x+h}f(x)\\text{d}x+\\cdots\\\\\n",
    "&+\\int_{b-2h}^{b-h}f(x)\\text{d}x+\\int_{b-h}^{b}f(x)\\text{d}x\n",
    "\\end{split}$$\n",
    "\n",
    "$$\\begin{split}\n",
    "\\int_{a}^{b}f(x)\\text{d}x &= \\frac{f(a) + f(a+h)}{2}h + \\frac{f(a+h) + f(a+2h)}{2}h+\\cdots\\\\\n",
    "& + \\frac{f(x-h) + f(x)}{2}h+ \\frac{f(x) + f(x+h)}{2}h+\\cdots\\\\\n",
    "&+ \\frac{f(b-h) + f(b-2h)}{2}h + \\frac{f(b) + f(b-h)}{2}h\n",
    "\\end{split}$$"
   ]
  },
  {
   "cell_type": "code",
   "execution_count": 6,
   "id": "54a57678",
   "metadata": {},
   "outputs": [],
   "source": [
    "class Trapezoidal ():\n",
    "    def __init__ (self, f, a, b, n):\n",
    "        self.f = f\n",
    "        self.a = a\n",
    "        self.b = b\n",
    "        self.n = n\n",
    "        self.h = (self.b - self.a)/self.n\n",
    "\n",
    "    def Integral (self):\n",
    "        s = 0.0\n",
    "        for i in range(0, self.n):\n",
    "            s += (self.f(self.a + i*self.h) + self.f(self.a + (i+1)*self.h))*self.h/2.0\n",
    "        return s"
   ]
  },
  {
   "cell_type": "code",
   "execution_count": 48,
   "id": "f209cc2c",
   "metadata": {},
   "outputs": [
    {
     "name": "stdout",
     "output_type": "stream",
     "text": [
      "3.1415513117787444\n"
     ]
    }
   ],
   "source": [
    "from math import *\n",
    "\n",
    "def g(x):\n",
    "    return x*sin(x)\n",
    "\n",
    "trap = Trapezoidal (g, 0.0, pi, 250)\n",
    "print(trap.Integral())"
   ]
  },
  {
   "cell_type": "markdown",
   "id": "6ce2d337",
   "metadata": {},
   "source": [
    "## Simpson's-1/3 Rule\n",
    "\n",
    "<img src=\"simp.jpg\" width=\"250\" height=\"200\">\n",
    "\n",
    "$$\\boxed{\\int_{x}^{x+2h}f(x)\\text{d}x = \\frac{f(x) + 4f(x+h) + f(x+2h)}{3}h}$$\n",
    "\n",
    "Divide the intervals $[a, b]$ into $n$ equal subintervals with each of width, $h = (b-a)/n$, where $n$ is even number and $x_i = a + ih, i=0, 1, 2,\\cdots,n$\n",
    "\n",
    "$$\\int_{a}^{b}f(x)\\text{d}x = \\int_{a}^{a+2h}f(x)\\text{d}x + \\int_{a+2h}^{a+4h}f(x)\\text{d}x+\\cdots+\\int_{x-2h}^{x}f(x)\\text{d}x+\\int_{x}^{x+2h}f(x)\\text{d}x+\\cdots+\\int_{b-4h}^{b-2h}f(x)\\text{d}x+\\int_{b-2h}^{b}f(x)\\text{d}x$$\n",
    "\n",
    "$$\\begin{split}\n",
    "\\int_{a}^{b}f(x)\\text{d}x &= \\frac{f(a) + 4f(a+h) + f(a+2h)}{3}h + \\frac{f(a+2h) + 4f(a+3h) + f(a+4h)}{3}h+\\cdots\\\\\n",
    "& + \\frac{f(x-2h) + 4f(x-h) +f(x)}{3}h+ \\frac{f(x) + 4f(x+h) + f(x+2h)}{3}h+\\cdots\\\\\n",
    "&+ \\frac{f(b-4h) + 4f(b-3h) + f(b-2h)}{3}h + \\frac{f(b-2h) + 4f(b-h) + f(b)}{3}h\n",
    "\\end{split}$$"
   ]
  },
  {
   "cell_type": "code",
   "execution_count": 49,
   "id": "f1eec915",
   "metadata": {},
   "outputs": [],
   "source": [
    "class Simpson ():\n",
    "    def __init__ (self, f, a, b, n):\n",
    "        self.f = f\n",
    "        self.a = a\n",
    "        self.b = b\n",
    "        if n%2 == 0:\n",
    "            self.n = n\n",
    "        else:\n",
    "            self.n = n + 1\n",
    "        self.h = (self.b - self.a)/self.n\n",
    "\n",
    "    def Integral (self):\n",
    "        s = 0.0\n",
    "        for i in range(0, self.n, 2):\n",
    "            s += ( self.f(self.a + i*self.h) +  4.0*self.f(self.a + (i+1)*self.h) +  self.f(self.a + (i+2)*self.h))*self.h/3.0\n",
    "        return s"
   ]
  },
  {
   "cell_type": "code",
   "execution_count": 50,
   "id": "2f8c074f",
   "metadata": {},
   "outputs": [
    {
     "name": "stdout",
     "output_type": "stream",
     "text": [
      "3.1415926540250285\n"
     ]
    }
   ],
   "source": [
    "from math import *\n",
    "\n",
    "def g(x):\n",
    "    return x*sin(x)\n",
    "\n",
    "simp = Simpson (g, 0.0, pi, 250)\n",
    "print(simp.Integral())"
   ]
  },
  {
   "cell_type": "markdown",
   "id": "401cf1ed",
   "metadata": {},
   "source": [
    "## Gaussian Quadrature Rule\n",
    "\n",
    "$$x=\\frac{b+a}{2} + \\frac{b-a}{2}s:\\quad \\mathrm{d}x = \\frac{b-a}{2}\\mathrm{d}s$$\n",
    "\n",
    "$$s =-1\\Rightarrow x = a,\\quad s =1\\Rightarrow x = b$$\n",
    "\n",
    "$$f(x) = f(\\frac{b+a}{2} + \\frac{b-a}{2}s) = g(s)$$\n",
    "\n",
    "$$\\int_a^b f(x)\\mathrm{d}x = \\frac{b-a}{2}\\int_{-1}^1g(s)\\mathrm{d}s$$\n",
    "\n",
    "$$\\boxed{\\int_{-1}^{1}g(s)\\text{d}s = \\sum_{j=1}^mC_jg(s_j)}$$\n",
    "\n",
    "$$\n",
    "\\begin{aligned}\n",
    "\\begin{array}{ccc}\n",
    "\\hline \\hline \\text { Points } & \\text { Arguments } & \\text { Weights } \\\\\n",
    "\\hline 1 & 0 & 2 \\\\\n",
    "2 & \\pm 1/\\sqrt{3} & 1 \\\\\n",
    "3 & \\pm \\sqrt{3/5} & 5/9\\\\ \n",
    "&0 & 8/9\\\\\n",
    "\\vdots & \\vdots & \\vdots\\\\ \n",
    "\\hline\n",
    "\\end{array}\n",
    "\\end{aligned}\n",
    "$$\n",
    "\n",
    "\n",
    "\n",
    "Divide the intervals $[a, b]$ into $n$ equal subintervals with each of width, $h = (b-a)/n$, where $x_i = a + ih, i=0, 1, 2,\\cdots,n$\n",
    "\n",
    "$$\\begin{split}\n",
    "\\int_{a}^{b}f(x)\\text{d}x &= \\int_{a}^{a+h}f(x)\\text{d}x + \\int_{a+h}^{a+2h}f(x)\\text{d}x+\\cdots+\\int_{b-2h}^{b-h}f(x)\\text{d}x+\\int_{b-h}^{b}f(x)\\text{d}x\n",
    "\\end{split}$$\n",
    "\n",
    "$$\\begin{split}\n",
    "\\int_{a}^{b}f(x)\\text{d}x &= \\frac{h}{2}\\int_{-1}^{1}f(a+\\frac{h}{2}+\\frac{h}{2}s)\\text{d}s + \\frac{h}{2}\\int_{-1}^{1}f(a+\\frac{3h}{2}+\\frac{h}{2}s)\\text{d}s+\\cdots\\\\\n",
    "&+\\frac{h}{2}\\int_{-1}^{1}f(b-\\frac{3h}{2}+\\frac{h}{2}s)\\text{d}s+\\frac{h}{2}\\int_{-1}^{1}f(b-\\frac{h}{2}+\\frac{h}{2}s)\\text{d}s\n",
    "\\end{split}$$\n",
    "\n",
    "$$\n",
    "\\int_{a}^{b}f(x)\\text{d}x = \\frac{h}{2}\\sum_{i=0}^{n-1}\\int_{-1}^{1}f(a+(2i+1)\\frac{h}{2}+\\frac{h}{2}s)\\text{d}s = \\frac{h}{2}\\sum_{i=0}^{n-1}\\sum_{j=1}^mC_jf(a+(2i+1)\\frac{h}{2}+\\frac{h}{2}s_j)\n",
    "$$"
   ]
  },
  {
   "cell_type": "code",
   "execution_count": 2,
   "id": "ba9bdc56",
   "metadata": {},
   "outputs": [],
   "source": [
    "from math import *\n",
    "\n",
    "class GaussianQuadrature ():\n",
    "    def __init__ (self, f, a, b, n, w, s):\n",
    "        self.f = f\n",
    "        self.a = a\n",
    "        self.b = b\n",
    "        self.n = n\n",
    "        self.h = (self.b - self.a)/self.n\n",
    "        \n",
    "        assert len(w) == len(s), \"Error in input arguments.\"\n",
    "        self.w = []; self.s = []\n",
    "        for i in range(len(w)):\n",
    "            self.w.append(w[i])\n",
    "            self.s.append(s[i])  \n",
    "        \n",
    "    def Integral (self):\n",
    "        s = 0.0\n",
    "        for i in range(self.n):\n",
    "            for j in range(len(self.w)):\n",
    "                s += self.w[j]*self.f(self.a + 0.5*(2*i+1)*self.h + 0.5*self.h*self.s[j])*self.h/2.0\n",
    "        return s"
   ]
  },
  {
   "cell_type": "code",
   "execution_count": 4,
   "id": "d4f7ef0b",
   "metadata": {},
   "outputs": [
    {
     "name": "stdout",
     "output_type": "stream",
     "text": [
      "3.141592653571661\n",
      "3.1415926535897896\n"
     ]
    }
   ],
   "source": [
    "from math import *\n",
    "\n",
    "def g(x):\n",
    "    return x*sin(x)\n",
    "\n",
    "GausQuad1 = GaussianQuadrature (g, 0.0, pi, 250, [1.0, 1.0], [-1.0/sqrt(3.0), 1.0/sqrt(3.0)])\n",
    "print(GausQuad1.Integral())\n",
    "GausQuad2 = GaussianQuadrature (g, 0.0, pi, 250, [5.0/9.0, 8.0/9.0, 5.0/9.0], [-sqrt(3.0/5.0), 0.0, sqrt(3.0/5.0)])\n",
    "print(GausQuad2.Integral())"
   ]
  }
 ],
 "metadata": {
  "kernelspec": {
   "display_name": "Python 3 (ipykernel)",
   "language": "python",
   "name": "python3"
  },
  "language_info": {
   "codemirror_mode": {
    "name": "ipython",
    "version": 3
   },
   "file_extension": ".py",
   "mimetype": "text/x-python",
   "name": "python",
   "nbconvert_exporter": "python",
   "pygments_lexer": "ipython3",
   "version": "3.9.12"
  }
 },
 "nbformat": 4,
 "nbformat_minor": 5
}
