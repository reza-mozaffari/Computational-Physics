{
 "cells": [
  {
   "cell_type": "markdown",
   "id": "20d803ea",
   "metadata": {},
   "source": [
    "# Computational Physcis \n",
    "**M. Reza Mozaffari**  \n",
    "*Physics Group, University of Qom*"
   ]
  },
  {
   "cell_type": "markdown",
   "id": "346debaf",
   "metadata": {},
   "source": [
    "## Trapezoidal Rule\n",
    "\n",
    "<img src=\"trap.jpg\" width=\"250\" height=\"200\">\n",
    "\n",
    "$$\\boxed{\\int_{x}^{x+h}f(x)\\text{d}x = \\frac{f(x) + f(x+h)}{2}h}$$\n",
    "\n",
    "Divide the intervals $[a, b]$ into $n$ equal subintervals with each of width, $h = (b-a)/n$, where $x_i = a + ih, i=0, 1, 2,\\cdots,n$\n",
    "\n",
    "$$\\begin{split}\\int_{a}^{b}f(x)\\text{d}x &= \\int_{a}^{a+h}f(x)\\text{d}x + \\int_{a+h}^{a+2h}f(x)\\text{d}x+\\cdots\\\\\n",
    "&+\\int_{x-h}^{x}f(x)\\text{d}x+\\int_{x}^{x+h}f(x)\\text{d}x+\\cdots\\\\\n",
    "&+\\int_{b-2h}^{b-h}f(x)\\text{d}x+\\int_{b-h}^{b}f(x)\\text{d}x\n",
    "\\end{split}$$\n",
    "\n",
    "$$\\begin{split}\n",
    "\\int_{a}^{b}f(x)\\text{d}x &= \\frac{f(a) + f(a+h)}{2}h + \\frac{f(a+h) + f(a+2h)}{2}h+\\cdots\\\\\n",
    "& + \\frac{f(x-h) + f(x)}{2}h+ \\frac{f(x) + f(x+h)}{2}h+\\cdots\\\\\n",
    "&+ \\frac{f(b-h) + f(b-2h)}{2}h + \\frac{f(b) + f(b-h)}{2}h\n",
    "\\end{split}$$"
   ]
  },
  {
   "cell_type": "code",
   "execution_count": 47,
   "id": "54a57678",
   "metadata": {},
   "outputs": [],
   "source": [
    "class Trapezoidal ():\n",
    "    def __init__ (self, f, a, b, n):\n",
    "        self.f = f\n",
    "        self.a = a\n",
    "        self.b = b\n",
    "        self.n = n\n",
    "        self.h = (self.b - self.a)/self.n\n",
    "\n",
    "    def Integral (self):\n",
    "        s = 0.0\n",
    "        for i in range(0, self.n):\n",
    "            s += (self.f(self.a + i*self.h) + self.f(self.a + (i+1)*self.h))*self.h/2.0\n",
    "        return s"
   ]
  },
  {
   "cell_type": "code",
   "execution_count": 48,
   "id": "f209cc2c",
   "metadata": {},
   "outputs": [
    {
     "name": "stdout",
     "output_type": "stream",
     "text": [
      "3.1415513117787444\n"
     ]
    }
   ],
   "source": [
    "from math import *\n",
    "\n",
    "def g(x):\n",
    "    return x*sin(x)\n",
    "\n",
    "trap = Trapezoidal (g, 0.0, pi, 250)\n",
    "print(trap.Integral())"
   ]
  },
  {
   "cell_type": "markdown",
   "id": "6ce2d337",
   "metadata": {},
   "source": [
    "## Simpson's-1/3 Rule\n",
    "\n",
    "<img src=\"simp.jpg\" width=\"250\" height=\"200\">\n",
    "\n",
    "$$\\boxed{\\int_{x}^{x+2h}f(x)\\text{d}x = \\frac{f(x) + 4f(x+h) + f(x+2h)}{3}h}$$\n",
    "\n",
    "Divide the intervals $[a, b]$ into $n$ equal subintervals with each of width, $h = (b-a)/n$, where $n$ is even number and $x_i = a + ih, i=0, 1, 2,\\cdots,n$\n",
    "\n",
    "$$\\int_{a}^{b}f(x)\\text{d}x = \\int_{a}^{a+2h}f(x)\\text{d}x + \\int_{a+2h}^{a+4h}f(x)\\text{d}x+\\cdots+\\int_{x-2h}^{x}f(x)\\text{d}x+\\int_{x}^{x+2h}f(x)\\text{d}x+\\cdots+\\int_{b-4h}^{b-2h}f(x)\\text{d}x+\\int_{b-2h}^{b}f(x)\\text{d}x$$\n",
    "\n",
    "$$\\begin{split}\n",
    "\\int_{a}^{b}f(x)\\text{d}x &= \\frac{f(a) + 4f(a+h) + f(a+2h)}{3}h + \\frac{f(a+2h) + 4f(a+3h) + f(a+4h)}{3}h+\\cdots\\\\\n",
    "& + \\frac{f(x-2h) + 4f(x-h) +f(x)}{3}h+ \\frac{f(x) + 4f(x+h) + f(x+2h)}{3}h+\\cdots\\\\\n",
    "&+ \\frac{f(b-4h) + 4f(b-3h) + f(b-2h)}{3}h + \\frac{f(b-2h) + 4f(b-h) + f(b)}{3}h\n",
    "\\end{split}$$"
   ]
  },
  {
   "cell_type": "code",
   "execution_count": 49,
   "id": "f1eec915",
   "metadata": {},
   "outputs": [],
   "source": [
    "class Simpson ():\n",
    "    def __init__ (self, f, a, b, n):\n",
    "        self.f = f\n",
    "        self.a = a\n",
    "        self.b = b\n",
    "        if n%2 == 0:\n",
    "            self.n = n\n",
    "        else:\n",
    "            self.n = n + 1\n",
    "        self.h = (self.b - self.a)/self.n\n",
    "\n",
    "    def Integral (self):\n",
    "        s = 0.0\n",
    "        for i in range(0, self.n, 2):\n",
    "            s += ( self.f(self.a + i*self.h) +  4.0*self.f(self.a + (i+1)*self.h) +  self.f(self.a + (i+2)*self.h))*self.h/3.0\n",
    "        return s"
   ]
  },
  {
   "cell_type": "code",
   "execution_count": 50,
   "id": "2f8c074f",
   "metadata": {},
   "outputs": [
    {
     "name": "stdout",
     "output_type": "stream",
     "text": [
      "3.1415926540250285\n"
     ]
    }
   ],
   "source": [
    "from math import *\n",
    "\n",
    "def g(x):\n",
    "    return x*sin(x)\n",
    "\n",
    "simp = Simpson (g, 0.0, pi, 250)\n",
    "print(simp.Integral())"
   ]
  },
  {
   "cell_type": "markdown",
   "id": "401cf1ed",
   "metadata": {},
   "source": [
    "## Gaussian Quadrature Rule\n",
    "\n",
    "$$x=\\frac{b+a}{2} + \\frac{b-a}{2}s:\\quad \\mathrm{d}x = \\frac{b-a}{2}\\mathrm{d}s$$\n",
    "\n",
    "$$s =-1\\Rightarrow x = a,\\quad s =1\\Rightarrow x = b$$\n",
    "\n",
    "$$f(x) = f(\\frac{b+a}{2} + \\frac{b-a}{2}s) = g(s)$$\n",
    "\n",
    "$$\\int_a^b f(x)\\mathrm{d}x = \\frac{b-a}{2}\\int_{-1}^1g(s)\\mathrm{d}s$$\n",
    "\n",
    "$$\\boxed{\\int_{-1}^{1}g(s)\\text{d}s = \\sum_{i=1}^nC_ig(s_i)}$$\n",
    "\n",
    "$$\n",
    "\\begin{aligned}\n",
    "\\begin{array}{ccc}\n",
    "\\hline \\hline \\text { Points } & \\text { Arguments } & \\text { Weights } \\\\\n",
    "\\hline 1 & 0 & 2 \\\\\n",
    "2 & \\pm 1/\\sqrt{3} & 1 \\\\\n",
    "3 & \\pm \\sqrt{3/5} & 5/9\\\\ \n",
    "&0 & 8/9\\\\\n",
    "\\hline\n",
    "\\end{array}\n",
    "\\end{aligned}\n",
    "$$\n",
    "\n",
    "\n",
    "\n",
    "Divide the intervals $[a, b]$ into $n$ equal subintervals with each of width, $h = (b-a)/n$, where $x_i = a + ih, i=0, 1, 2,\\cdots,n$\n",
    "\n",
    "$$\\begin{split}\n",
    "\\int_{a}^{b}f(x)\\text{d}x &= \\int_{a}^{a+h}f(x)\\text{d}x + \\int_{a+h}^{a+2h}f(x)\\text{d}x+\\cdots+\\int_{b-2h}^{b-h}f(x)\\text{d}x+\\int_{b-h}^{b}f(x)\\text{d}x\n",
    "\\end{split}$$\n",
    "\n",
    "$$\\begin{split}\n",
    "\\int_{a}^{b}f(x)\\text{d}x &= \\frac{h}{2}\\int_{-1}^{1}f(a+\\frac{h}{2}+\\frac{h}{2}s)\\text{d}s + \\frac{h}{2}\\int_{-1}^{1}f(a+\\frac{3h}{2}+\\frac{h}{2}s)\\text{d}s+\\cdots\\\\\n",
    "&+\\frac{h}{2}\\int_{-1}^{1}f(b-\\frac{3h}{2}+\\frac{h}{2}s)\\text{d}s+\\frac{h}{2}\\int_{-1}^{1}f(b-\\frac{h}{2}+\\frac{h}{2}s)\\text{d}s\n",
    "\\end{split}$$\n"
   ]
  }
 ],
 "metadata": {
  "kernelspec": {
   "display_name": "Python 3 (ipykernel)",
   "language": "python",
   "name": "python3"
  },
  "language_info": {
   "codemirror_mode": {
    "name": "ipython",
    "version": 3
   },
   "file_extension": ".py",
   "mimetype": "text/x-python",
   "name": "python",
   "nbconvert_exporter": "python",
   "pygments_lexer": "ipython3",
   "version": "3.9.12"
  }
 },
 "nbformat": 4,
 "nbformat_minor": 5
}
